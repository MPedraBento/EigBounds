{
 "cells": [
  {
   "cell_type": "markdown",
   "metadata": {},
   "source": [
    "### Imports"
   ]
  },
  {
   "cell_type": "code",
   "execution_count": 1,
   "metadata": {
    "ExecuteTime": {
     "end_time": "2023-11-20T18:02:25.663762Z",
     "start_time": "2023-11-20T18:02:25.565522Z"
    }
   },
   "outputs": [],
   "source": [
    "import numpy as np"
   ]
  },
  {
   "cell_type": "markdown",
   "metadata": {},
   "source": [
    "### Generate random matrices $5 \\times 5$"
   ]
  },
  {
   "cell_type": "code",
   "execution_count": 2,
   "metadata": {
    "ExecuteTime": {
     "end_time": "2023-11-20T18:02:25.675161Z",
     "start_time": "2023-11-20T18:02:25.669166Z"
    }
   },
   "outputs": [],
   "source": [
    "# Size of the matrices\n",
    "N = 5\n",
    "\n",
    "# Computation through batches allows us to save memory by asking the diagonal of the matrices to be bounded\n",
    "batch = 10000\n",
    "N_batches = 5\n",
    "N_samples = N_batches * batch\n",
    "\n",
    "# The parameter 'c' defines the bound on the eigevalues\n",
    "c = 1\n",
    "\n",
    "# The parameter 'random_bounds' defines the bound on parameters of the matrices\n",
    "random_bounds = 1"
   ]
  },
  {
   "cell_type": "code",
   "execution_count": 3,
   "metadata": {
    "ExecuteTime": {
     "end_time": "2023-11-20T18:02:25.686402Z",
     "start_time": "2023-11-20T18:02:25.680047Z"
    }
   },
   "outputs": [],
   "source": [
    "def gen(N, N_samples):\n",
    "    \n",
    "    \"\"\"Generate N_samples of N x N real symmetric matrices.\n",
    "       A necessary condition is that the diagonal must be bounded such that -c < diag(A) < c .\"\"\"\n",
    "    \n",
    "    np.random.seed(417)\n",
    "    \n",
    "    m = np.random.uniform(-random_bounds, random_bounds,size=(batch, N, N))\n",
    "    lst = (m + np.transpose(m, axes=(0,2,1)))/2\n",
    "    \n",
    "    lst = lst[np.all(np.abs(np.diagonal(lst, axis1 = 1, axis2 = 2)) < c, axis=1)]\n",
    "    \n",
    "    \n",
    "    for _ in range(N_batches - 1):\n",
    "        \n",
    "        m = np.random.uniform(-random_bounds, random_bounds,size=(batch, N, N))\n",
    "        sym_m = (m + np.transpose(m, axes=(0,2,1)))/2\n",
    "        \n",
    "        lst = np.concatenate((lst, sym_m), axis=0)\n",
    "        lst = lst[np.all(np.abs(np.diagonal(lst, axis1 = 1, axis2 = 2)) < c, axis=1)]\n",
    "\n",
    "    return lst"
   ]
  },
  {
   "cell_type": "code",
   "execution_count": 4,
   "metadata": {
    "ExecuteTime": {
     "end_time": "2023-11-20T18:02:25.735372Z",
     "start_time": "2023-11-20T18:02:25.688193Z"
    }
   },
   "outputs": [],
   "source": [
    "lst = gen(N, N_samples)"
   ]
  },
  {
   "cell_type": "code",
   "execution_count": 5,
   "metadata": {
    "ExecuteTime": {
     "end_time": "2023-11-20T18:02:25.746484Z",
     "start_time": "2023-11-20T18:02:25.737697Z"
    }
   },
   "outputs": [
    {
     "data": {
      "text/plain": [
       "(50000, 5, 5)"
      ]
     },
     "execution_count": 5,
     "metadata": {},
     "output_type": "execute_result"
    }
   ],
   "source": [
    "lst.shape"
   ]
  },
  {
   "cell_type": "markdown",
   "metadata": {},
   "source": [
    "### Eigenvalue method : we test if $-c < \\lambda_i < c$"
   ]
  },
  {
   "cell_type": "code",
   "execution_count": 6,
   "metadata": {
    "ExecuteTime": {
     "end_time": "2023-11-20T18:02:25.751512Z",
     "start_time": "2023-11-20T18:02:25.748391Z"
    }
   },
   "outputs": [],
   "source": [
    "def eigen_way():\n",
    "    \n",
    "    \"\"\"Method using eigenvalues. All matrices are checked through diagonalization.\"\"\"\n",
    "    \n",
    "    lst_c = np.copy(lst)\n",
    "    \n",
    "    lst_c = lst_c[np.all(np.linalg.eigvals(lst_c) > -c, axis=1)]\n",
    "    \n",
    "    lst_c = lst_c[np.all(np.linalg.eigvals(lst_c) < c, axis=1)]\n",
    "        \n",
    "    return lst_c"
   ]
  },
  {
   "cell_type": "markdown",
   "metadata": {},
   "source": [
    "#### Time execution"
   ]
  },
  {
   "cell_type": "code",
   "execution_count": 7,
   "metadata": {
    "ExecuteTime": {
     "end_time": "2023-11-20T18:02:27.326766Z",
     "start_time": "2023-11-20T18:02:25.752740Z"
    }
   },
   "outputs": [
    {
     "name": "stdout",
     "output_type": "stream",
     "text": [
      "189 ms ± 57.7 ms per loop (mean ± std. dev. of 7 runs, 1 loop each)\n"
     ]
    }
   ],
   "source": [
    "%timeit eigen_way()"
   ]
  },
  {
   "cell_type": "markdown",
   "metadata": {},
   "source": [
    "#### We list the survivors of the random matrices"
   ]
  },
  {
   "cell_type": "code",
   "execution_count": 8,
   "metadata": {
    "ExecuteTime": {
     "end_time": "2023-11-20T18:02:27.455292Z",
     "start_time": "2023-11-20T18:02:27.327563Z"
    }
   },
   "outputs": [],
   "source": [
    "lst_ei = eigen_way()"
   ]
  },
  {
   "cell_type": "markdown",
   "metadata": {},
   "source": [
    "### Minor method : we test if $-c < \\lambda_i < c$"
   ]
  },
  {
   "cell_type": "code",
   "execution_count": 9,
   "metadata": {
    "ExecuteTime": {
     "end_time": "2023-11-20T18:02:27.458580Z",
     "start_time": "2023-11-20T18:02:27.456106Z"
    }
   },
   "outputs": [],
   "source": [
    "def min_way():\n",
    "    \n",
    "    \"\"\"Method using principal minors. All are checked and the list of matrices is trimmed on each step.\"\"\"\n",
    "    \n",
    "    lst_c = np.copy(lst)\n",
    "        \n",
    "    # The next line is only needed if we don't screen for the diagonal when generating matrices\n",
    "    # lst_c = lst_c[np.all(np.abs(np.diagonal(lst_c, axis1 = 1, axis2 = 2)) < c, axis=1)]\n",
    "    \n",
    "    for k in range(2, N + 1):\n",
    "        \n",
    "        lst_c = lst_c[np.linalg.det((lst_c + c * np.eye(N))[:,:k,:k]) > 0]\n",
    "        lst_c = lst_c[np.linalg.det((c * np.eye(N) - lst_c)[:,:k,:k]) > 0]\n",
    "    \n",
    "      \n",
    "    return lst_c"
   ]
  },
  {
   "cell_type": "markdown",
   "metadata": {},
   "source": [
    "#### Time execution is much faster, this without including simple conditions for the random generation of the matrices"
   ]
  },
  {
   "cell_type": "code",
   "execution_count": 10,
   "metadata": {
    "ExecuteTime": {
     "end_time": "2023-11-20T18:02:29.762984Z",
     "start_time": "2023-11-20T18:02:27.460290Z"
    }
   },
   "outputs": [
    {
     "name": "stdout",
     "output_type": "stream",
     "text": [
      "28.2 ms ± 714 µs per loop (mean ± std. dev. of 7 runs, 10 loops each)\n"
     ]
    }
   ],
   "source": [
    "%timeit min_way()"
   ]
  },
  {
   "cell_type": "markdown",
   "metadata": {},
   "source": [
    "#### We list the survivors of the random matrices"
   ]
  },
  {
   "cell_type": "code",
   "execution_count": 11,
   "metadata": {
    "ExecuteTime": {
     "end_time": "2023-11-20T18:02:29.794821Z",
     "start_time": "2023-11-20T18:02:29.763821Z"
    }
   },
   "outputs": [],
   "source": [
    "lst_min = min_way()"
   ]
  },
  {
   "cell_type": "markdown",
   "metadata": {},
   "source": [
    "### The lists of both methods are the same"
   ]
  },
  {
   "cell_type": "code",
   "execution_count": 12,
   "metadata": {
    "ExecuteTime": {
     "end_time": "2023-11-20T18:02:29.799160Z",
     "start_time": "2023-11-20T18:02:29.796346Z"
    }
   },
   "outputs": [
    {
     "data": {
      "text/plain": [
       "True"
      ]
     },
     "execution_count": 12,
     "metadata": {},
     "output_type": "execute_result"
    }
   ],
   "source": [
    "(lst_min == lst_ei).all()"
   ]
  },
  {
   "cell_type": "markdown",
   "metadata": {},
   "source": [
    "### The surviving matrices"
   ]
  },
  {
   "cell_type": "code",
   "execution_count": 13,
   "metadata": {
    "ExecuteTime": {
     "end_time": "2023-11-20T18:02:29.802554Z",
     "start_time": "2023-11-20T18:02:29.800004Z"
    }
   },
   "outputs": [
    {
     "data": {
      "text/plain": [
       "(537, 5, 5)"
      ]
     },
     "execution_count": 13,
     "metadata": {},
     "output_type": "execute_result"
    }
   ],
   "source": [
    "lst_min.shape"
   ]
  }
 ],
 "metadata": {
  "kernelspec": {
   "display_name": "Python 3 (ipykernel)",
   "language": "python",
   "name": "python3"
  },
  "language_info": {
   "codemirror_mode": {
    "name": "ipython",
    "version": 3
   },
   "file_extension": ".py",
   "mimetype": "text/x-python",
   "name": "python",
   "nbconvert_exporter": "python",
   "pygments_lexer": "ipython3",
   "version": "3.10.12"
  },
  "toc": {
   "base_numbering": 1,
   "nav_menu": {},
   "number_sections": true,
   "sideBar": true,
   "skip_h1_title": false,
   "title_cell": "Table of Contents",
   "title_sidebar": "Contents",
   "toc_cell": false,
   "toc_position": {},
   "toc_section_display": true,
   "toc_window_display": false
  },
  "varInspector": {
   "cols": {
    "lenName": 16,
    "lenType": 16,
    "lenVar": 40
   },
   "kernels_config": {
    "python": {
     "delete_cmd_postfix": "",
     "delete_cmd_prefix": "del ",
     "library": "var_list.py",
     "varRefreshCmd": "print(var_dic_list())"
    },
    "r": {
     "delete_cmd_postfix": ") ",
     "delete_cmd_prefix": "rm(",
     "library": "var_list.r",
     "varRefreshCmd": "cat(var_dic_list()) "
    }
   },
   "types_to_exclude": [
    "module",
    "function",
    "builtin_function_or_method",
    "instance",
    "_Feature"
   ],
   "window_display": false
  }
 },
 "nbformat": 4,
 "nbformat_minor": 4
}
